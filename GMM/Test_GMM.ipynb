{
 "cells": [
  {
   "cell_type": "code",
   "execution_count": 2,
   "id": "b25efb27",
   "metadata": {},
   "outputs": [],
   "source": [
    "import numpy as np\n",
    "import numpy.linalg as lin\n",
    "import scipy.stats as sts\n",
    "import scipy.integrate as intgr\n",
    "import scipy.optimize as opt\n",
    "import matplotlib\n",
    "import matplotlib.pyplot as plt\n",
    "from mpl_toolkits.mplot3d import Axes3D\n",
    "from matplotlib import cm\n",
    "cmap1 = matplotlib.cm.get_cmap('summer')"
   ]
  },
  {
   "cell_type": "code",
   "execution_count": 218,
   "id": "42647014",
   "metadata": {},
   "outputs": [],
   "source": [
    "# Define the true parameters\n",
    "a_true = 10\n",
    "b_true = 5\n",
    "n = 100000\n",
    "np.random.seed(42)\n",
    "\n",
    "def model(x, a, b):\n",
    "    return a + b*x\n",
    "\n",
    "# Define the function that generates the data\n",
    "# be careful on noise strengths compared to signal!!!!\n",
    "def generate_data(a, b, n):\n",
    "    x = np.random.normal(0, 1, size=n)\n",
    "    y = model(x, a, b) + np.random.normal(0, 0.1, size=n)\n",
    "    return x, y\n",
    "\n",
    "# Generate the data\n",
    "x, y = generate_data(a_true, b_true, n)\n",
    "\n",
    "# Instruments \n",
    "z1 = x + np.random.normal(0, 1, size=n)\n",
    "z2 = x + np.random.normal(0, 1, size=n)\n",
    "z = np.c_[z1, z2]"
   ]
  },
  {
   "cell_type": "code",
   "execution_count": 219,
   "id": "a898793d",
   "metadata": {},
   "outputs": [],
   "source": [
    "def g_vec(y, x, z, params):\n",
    "    a, b = params\n",
    "    error = y - model(x, a, b)\n",
    "    m1 = np.mean(z[:, 0] * error)\n",
    "    m2 = np.mean(z[:, 1] * error)\n",
    "    g =  np.column_stack((m1, m2)).T\n",
    "    return g"
   ]
  },
  {
   "cell_type": "code",
   "execution_count": 220,
   "id": "76d9f71a",
   "metadata": {},
   "outputs": [],
   "source": [
    "def criterion(params, *args):\n",
    "    a, b = params\n",
    "    y, x, z, W = args\n",
    "    g = g_vec(y, x, z, params)\n",
    "    crit_val = np.dot(np.dot(g.T, W), g) \n",
    "    # crit_val = np.dot(g.T, g) \n",
    "    return crit_val"
   ]
  },
  {
   "cell_type": "code",
   "execution_count": 221,
   "id": "43e5349f",
   "metadata": {},
   "outputs": [
    {
     "data": {
      "text/plain": [
       "array([[2.01593132]])"
      ]
     },
     "execution_count": 221,
     "metadata": {},
     "output_type": "execute_result"
    }
   ],
   "source": [
    "a_init = 1\n",
    "b_init = 1\n",
    "params_init = np.array([a_init, b_init])\n",
    "W_hat = np.eye(2)\n",
    "gmm_args = (y, x, z, W_hat)\n",
    "criterion([a_init, b_init], *gmm_args)"
   ]
  },
  {
   "cell_type": "code",
   "execution_count": 222,
   "id": "d214e645",
   "metadata": {},
   "outputs": [
    {
     "name": "stdout",
     "output_type": "stream",
     "text": [
      "Optimization terminated successfully.\n",
      "         Current function value: 0.000000\n",
      "         Iterations: 12\n",
      "         Function evaluations: 60\n",
      "         Gradient evaluations: 20\n"
     ]
    },
    {
     "data": {
      "text/plain": [
       "      fun: 2.2455430164912666e-15\n",
       " hess_inv: array([[ 5.24302480e+05, -8.06118229e+01],\n",
       "       [-8.06118229e+01,  2.54014075e-01]])\n",
       "      jac: array([5.75579259e-11, 1.51749736e-07])\n",
       "  message: 'Optimization terminated successfully.'\n",
       "     nfev: 60\n",
       "      nit: 12\n",
       "     njev: 20\n",
       "   status: 0\n",
       "  success: True\n",
       "        x: array([9.99028744, 5.00024418])"
      ]
     },
     "execution_count": 222,
     "metadata": {},
     "output_type": "execute_result"
    }
   ],
   "source": [
    "a_init = 1\n",
    "b_init = 1\n",
    "params_init = np.array([a_init, b_init])\n",
    "W_hat = np.eye(2)\n",
    "gmm_args = (y, x, z, W_hat)\n",
    "results = opt.minimize(criterion, params_init, args=(gmm_args), tol=1e-6, options  = {\"maxiter\":100000, \"disp\":True})#, method='SLSQP')\n",
    "results"
   ]
  },
  {
   "cell_type": "code",
   "execution_count": 223,
   "id": "c96f0e5c",
   "metadata": {},
   "outputs": [
    {
     "data": {
      "text/plain": [
       "array([9.99028744, 5.00024418])"
      ]
     },
     "execution_count": 223,
     "metadata": {},
     "output_type": "execute_result"
    }
   ],
   "source": [
    "results.x"
   ]
  },
  {
   "cell_type": "code",
   "execution_count": null,
   "id": "a47107bc",
   "metadata": {},
   "outputs": [],
   "source": []
  },
  {
   "cell_type": "code",
   "execution_count": null,
   "id": "3d8b7b7e",
   "metadata": {},
   "outputs": [],
   "source": []
  }
 ],
 "metadata": {
  "kernelspec": {
   "display_name": "Python 3 (ipykernel)",
   "language": "python",
   "name": "python3"
  },
  "language_info": {
   "codemirror_mode": {
    "name": "ipython",
    "version": 3
   },
   "file_extension": ".py",
   "mimetype": "text/x-python",
   "name": "python",
   "nbconvert_exporter": "python",
   "pygments_lexer": "ipython3",
   "version": "3.10.5"
  }
 },
 "nbformat": 4,
 "nbformat_minor": 5
}
