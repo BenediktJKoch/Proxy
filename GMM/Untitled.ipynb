{
 "cells": [
  {
   "cell_type": "code",
   "execution_count": 11,
   "id": "f848a271",
   "metadata": {},
   "outputs": [],
   "source": [
    "from sympy import fourier_transform, exp, inverse_fourier_transform, exp, sqrt, pi\n",
    "from sympy.abc import x, k"
   ]
  },
  {
   "cell_type": "code",
   "execution_count": 17,
   "id": "314305b1",
   "metadata": {},
   "outputs": [
    {
     "data": {
      "text/latex": [
       "$\\displaystyle \\mathcal{F}^{-1}_{k}\\left[\\mathcal{F}_{x}\\left[e^{x}\\right]\\left(k\\right)\\right]\\left(x\\right)$"
      ],
      "text/plain": [
       "InverseFourierTransform(FourierTransform(exp(x), x, k), k, x)"
      ]
     },
     "execution_count": 17,
     "metadata": {},
     "output_type": "execute_result"
    }
   ],
   "source": [
    "inverse_fourier_transform(fourier_transform(exp(x), x, k), k, x)"
   ]
  },
  {
   "cell_type": "code",
   "execution_count": null,
   "id": "1470025a",
   "metadata": {},
   "outputs": [],
   "source": []
  }
 ],
 "metadata": {
  "kernelspec": {
   "display_name": "Python 3 (ipykernel)",
   "language": "python",
   "name": "python3"
  },
  "language_info": {
   "codemirror_mode": {
    "name": "ipython",
    "version": 3
   },
   "file_extension": ".py",
   "mimetype": "text/x-python",
   "name": "python",
   "nbconvert_exporter": "python",
   "pygments_lexer": "ipython3",
   "version": "3.9.16"
  }
 },
 "nbformat": 4,
 "nbformat_minor": 5
}
