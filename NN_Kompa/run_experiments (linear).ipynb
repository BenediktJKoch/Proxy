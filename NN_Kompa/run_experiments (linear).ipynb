{
 "cells": [
  {
   "cell_type": "markdown",
   "id": "f7d44793",
   "metadata": {},
   "source": [
    "## Setup"
   ]
  },
  {
   "cell_type": "code",
   "execution_count": 1,
   "id": "a91d4ef9",
   "metadata": {},
   "outputs": [
    {
     "name": "stderr",
     "output_type": "stream",
     "text": [
      "C:\\Users\\Benedikt\\anaconda3new\\envs\\kompa\\lib\\site-packages\\tqdm\\auto.py:22: TqdmWarning: IProgress not found. Please update jupyter and ipywidgets. See https://ipywidgets.readthedocs.io/en/stable/user_install.html\n",
      "  from .autonotebook import tqdm as notebook_tqdm\n"
     ]
    }
   ],
   "source": [
    "from pathlib import Path\n",
    "import os\n",
    "import datetime\n",
    "import seaborn as sns\n",
    "import matplotlib.pyplot as plt\n",
    "import pandas as pd\n",
    "import torch\n",
    "import ast\n",
    "import numpy as np\n",
    "from numpy.random import default_rng\n",
    "from typing import Tuple, Optional, Dict, Any\n",
    "\n",
    "from src.utils import grid_search_dict\n",
    "\n",
    "from src.data.ate.linear_pv import calc_haw, gen_haw, ha_effect\n",
    "\n",
    "from fct import run_exp, pmmr_exp, kpv_exp, NMMR_exp, save_data"
   ]
  },
  {
   "cell_type": "markdown",
   "id": "72de487b",
   "metadata": {},
   "source": [
    "## Config"
   ]
  },
  {
   "cell_type": "code",
   "execution_count": 3,
   "id": "e0d300ec",
   "metadata": {},
   "outputs": [],
   "source": [
    "experiment_name = \"linear\"\n",
    "n_sample = 1000\n",
    "beta_0 = 1 # just shifts\n",
    "beta_a = 1.2 # the higher the better\n",
    "beta_w = 0.6 # set to zero\n",
    "delta_0 = 1.2\n",
    "delta = 1.3 # the higher the better\n",
    "gamma_0 = 0.4\n",
    "gamma = 0.7 # the higher the better\n",
    "lam_z = 1.1 # the higher the better\n",
    "lam_u = 1 # the lower the better\n",
    "U_noise = np.sqrt(0.1)\n",
    "A_noise = np.sqrt(0.1)\n",
    "W_noise = np.sqrt(0.1)\n",
    "Z_noise = np.sqrt(0.1)\n",
    "a_start = -1\n",
    "a_end = 2\n",
    "\n",
    "data_dic = {\n",
    "      \"name\" : experiment_name,\n",
    "      \"n_sample\" : n_sample,\n",
    "      \"beta_0\": beta_0,\n",
    "      \"beta_a\": beta_a,\n",
    "      \"beta_w\": beta_w,\n",
    "      \"delta_0\": delta_0,\n",
    "      \"delta\": delta,\n",
    "      \"gamma_0\": gamma_0,\n",
    "      \"gamma\": gamma,\n",
    "      \"lam_z\": lam_z, \n",
    "      \"lam_u\": lam_u, \n",
    "      \"U_noise\": U_noise,\n",
    "      \"A_noise\": A_noise,\n",
    "      \"Z_noise\": Z_noise,\n",
    "      \"W_noise\": W_noise,\n",
    "      \"a_start\": a_start,\n",
    "      \"a_end\": a_end,\n",
    "}\n",
    "\n",
    "\n",
    "pmmr_configs = {\n",
    "        \"name\": \"pmmr\",\n",
    "        \"lam1\": np.logspace(np.log10(1/(450)**2), np.log10(0.25), 50),\n",
    "        \"lam2\": 0.01,\n",
    "        \"scale\": 0.5,\n",
    "        \"data_scaling\": True\n",
    "}\n",
    "\n",
    "kpv_configs = {\n",
    "        \"name\": \"kpv\",\n",
    "        \"lam1_max\": 0.01,\n",
    "        \"lam1_min\":  0.0001,\n",
    "        \"n_lam1_search\": 25,\n",
    "        \"lam2_max\": 0.01,\n",
    "        \"lam2_min\": 0.0001,\n",
    "        \"n_lam2_search\": 25,\n",
    "        \"split_ratio\": 0.5,\n",
    "        \"scale\": 0.5,\n",
    "        \"data_scaling\": True,\n",
    "}\n",
    "\n",
    "nmmr_u_configs = {\n",
    "    \"name\": \"nmmr\",\n",
    "    \"n_epochs\": [2000],\n",
    "    \"batch_size\": 100,\n",
    "    \"log_metrics\": \"True\",\n",
    "    \"learning_rate\": [0.003],\n",
    "    \"l2_penalty\": [3e-06],\n",
    "    \"loss_name\": \"U_statistic\",\n",
    "    \"network_depth\": [4],\n",
    "    \"network_width\": [80]\n",
    "}\n",
    "\n",
    "nmmr_v_configs = {\n",
    "    \"name\": \"nmmr\",\n",
    "    \"n_epochs\": [2000],\n",
    "    \"batch_size\": 100,\n",
    "    \"log_metrics\": \"True\",\n",
    "    \"learning_rate\": [0.003],\n",
    "    \"l2_penalty\": [3e-06],\n",
    "    \"loss_name\": \"V_statistic\",\n",
    "    \"network_depth\": [3],\n",
    "    \"network_width\": [80]\n",
    "}"
   ]
  },
  {
   "cell_type": "markdown",
   "id": "1f7128f8",
   "metadata": {},
   "source": [
    "## Evaluations"
   ]
  },
  {
   "cell_type": "markdown",
   "id": "bba9fbc7",
   "metadata": {},
   "source": [
    "#### Grid search is unfair for KPV!"
   ]
  },
  {
   "cell_type": "code",
   "execution_count": 4,
   "id": "9caf5fa2",
   "metadata": {
    "scrolled": true
   },
   "outputs": [
    {
     "name": "stdout",
     "output_type": "stream",
     "text": [
      "Finished with sd: 5949, lam1:4.938271604938276e-06\n",
      "Finished with sd: 7422, lam1:4.938271604938276e-06\n",
      "Finished with sd: 4388, lam1:0.0003293946317895985\n",
      "Finished with sd: 2807, lam1:4.938271604938276e-06\n",
      "Finished with sd: 5654, lam1:4.938271604938276e-06\n",
      "Finished with sd: 5518, lam1:0.0030046301045510517\n",
      "Finished with sd: 1816, lam1:4.5045298546713345e-05\n",
      "Finished with sd: 1102, lam1:0.0002640639208146169\n",
      "Finished with sd: 9886, lam1:4.938271604938276e-06\n",
      "Finished with sd: 1656, lam1:0.0037479903498340897\n",
      "PMMR finished\n",
      "CPU times: total: 28min 55s\n",
      "Wall time: 6min 43s\n"
     ]
    }
   ],
   "source": [
    "%%time\n",
    "sd_list = [5949, 7422, 4388, 2807, 5654, 5518, 1816, 1102, 9886, 1656, \n",
    "           4379, 2029, 8455, 4987, 4259, 2533, 9783, 7987, 1009, 2297]\n",
    "\n",
    "sd_list = [5949, 7422, 4388, 2807, 5654, 5518, 1816, 1102, 9886, 1656]\n",
    "\n",
    "# save results\n",
    "results_pmmr = run_exp(model_config = pmmr_configs, data_config=data_dic, sd_list=sd_list)\n",
    "print(\"PMMR finished\")"
   ]
  },
  {
   "cell_type": "code",
   "execution_count": 5,
   "id": "4e7c46f3",
   "metadata": {},
   "outputs": [
    {
     "name": "stderr",
     "output_type": "stream",
     "text": [
      "No GPU/TPU found, falling back to CPU. (Set TF_CPP_MIN_LOG_LEVEL=0 and rerun for more info.)\n"
     ]
    },
    {
     "name": "stdout",
     "output_type": "stream",
     "text": [
      "Finished with sd: 5949, lam1/lam2:[0.006812920690579608, 0.0001]\n",
      "Finished with sd: 7422, lam1/lam2:[0.004641588833612777, 0.0001]\n",
      "Finished with sd: 4388, lam1/lam2:[0.006812920690579608, 0.0001]\n",
      "Finished with sd: 2807, lam1/lam2:[0.005623413251903491, 0.0001]\n",
      "Finished with sd: 5654, lam1/lam2:[0.004641588833612777, 0.0001]\n",
      "Finished with sd: 5518, lam1/lam2:[0.008254041852680182, 0.0001]\n",
      "Finished with sd: 1816, lam1/lam2:[0.005623413251903491, 0.0001]\n",
      "Finished with sd: 1102, lam1/lam2:[0.006812920690579608, 0.0001]\n",
      "Finished with sd: 9886, lam1/lam2:[0.005623413251903491, 0.0001]\n",
      "Finished with sd: 1656, lam1/lam2:[0.008254041852680182, 0.0001]\n",
      "KPV finished\n",
      "CPU times: total: 39min 23s\n",
      "Wall time: 5min 35s\n"
     ]
    }
   ],
   "source": [
    "%%time\n",
    "results_kpv = run_exp(model_config = kpv_configs, data_config=data_dic, sd_list=sd_list)\n",
    "print(\"KPV finished\")"
   ]
  },
  {
   "cell_type": "code",
   "execution_count": null,
   "id": "58618ba0",
   "metadata": {},
   "outputs": [
    {
     "name": "stderr",
     "output_type": "stream",
     "text": [
      "100%|██████████| 2000/2000 [02:56<00:00, 11.33it/s]\n"
     ]
    },
    {
     "name": "stdout",
     "output_type": "stream",
     "text": [
      "Finished with sd: 5949\n"
     ]
    },
    {
     "name": "stderr",
     "output_type": "stream",
     "text": [
      " 92%|█████████▏| 1844/2000 [03:24<00:15, 10.37it/s]"
     ]
    }
   ],
   "source": [
    "%%time\n",
    "results_nmmr_u = run_exp(model_config = nmmr_u_configs, data_config=data_dic, sd_list=sd_list)\n",
    "print(\"NMMR-U finished\")"
   ]
  },
  {
   "cell_type": "code",
   "execution_count": null,
   "id": "676b78cc",
   "metadata": {},
   "outputs": [],
   "source": [
    "%%time\n",
    "results_nmmr_v = run_exp(model_config = nmmr_v_configs, data_config=data_dic, sd_list=sd_list)\n",
    "print(\"NMMR-V finished\")\n",
    "df_save = pd.DataFrame(columns=['model', 'pred_avg', 'train_data', 'test_data', 'pred_all', \n",
    "                                'mse_avg', 'mae_avg', 'mse_all', 'mae_all', 'param_opt', 'error', \n",
    "                                'std', 'error_abs', 'std_abs', 'model_config', 'data_config'])\n",
    "df_save = df_save.append([results_pmmr, results_kpv, results_nmmr_u, results_nmmr_v])\n",
    "save_data(df_save, data_dic)"
   ]
  },
  {
   "cell_type": "code",
   "execution_count": null,
   "id": "fd5574fd",
   "metadata": {},
   "outputs": [],
   "source": [
    "# df_save"
   ]
  },
  {
   "cell_type": "code",
   "execution_count": null,
   "id": "85487c8f",
   "metadata": {},
   "outputs": [],
   "source": [
    "haw, ha = ha_effect(a_start, a_end, beta_0, beta_a, beta_w, delta_0, delta, U_noise, W_noise)"
   ]
  },
  {
   "cell_type": "markdown",
   "id": "55c90bd4",
   "metadata": {},
   "source": [
    "### Plot"
   ]
  },
  {
   "cell_type": "markdown",
   "id": "807d8a6e",
   "metadata": {},
   "source": [
    "#### Get Data"
   ]
  },
  {
   "cell_type": "code",
   "execution_count": 9,
   "id": "613a68c5",
   "metadata": {},
   "outputs": [
    {
     "ename": "NameError",
     "evalue": "name 'results_nmmr_u' is not defined",
     "output_type": "error",
     "traceback": [
      "\u001b[1;31m---------------------------------------------------------------------------\u001b[0m",
      "\u001b[1;31mNameError\u001b[0m                                 Traceback (most recent call last)",
      "Cell \u001b[1;32mIn[9], line 13\u001b[0m\n\u001b[0;32m     11\u001b[0m Y_pred_pmmr \u001b[38;5;241m=\u001b[39m results_pmmr[\u001b[38;5;124m\"\u001b[39m\u001b[38;5;124mpred_avg\u001b[39m\u001b[38;5;124m\"\u001b[39m]\n\u001b[0;32m     12\u001b[0m Y_pred_kpv \u001b[38;5;241m=\u001b[39m results_kpv[\u001b[38;5;124m\"\u001b[39m\u001b[38;5;124mpred_avg\u001b[39m\u001b[38;5;124m\"\u001b[39m]\n\u001b[1;32m---> 13\u001b[0m Y_pred_nmmr_u \u001b[38;5;241m=\u001b[39m \u001b[43mresults_nmmr_u\u001b[49m[\u001b[38;5;124m\"\u001b[39m\u001b[38;5;124mpred_avg\u001b[39m\u001b[38;5;124m\"\u001b[39m]\n\u001b[0;32m     14\u001b[0m Y_pred_nmmr_v \u001b[38;5;241m=\u001b[39m results_nmmr_v[\u001b[38;5;124m\"\u001b[39m\u001b[38;5;124mpred_avg\u001b[39m\u001b[38;5;124m\"\u001b[39m]\n\u001b[0;32m     16\u001b[0m std_pmmr \u001b[38;5;241m=\u001b[39m np\u001b[38;5;241m.\u001b[39msqueeze(results_pmmr[\u001b[38;5;124m\"\u001b[39m\u001b[38;5;124mstd\u001b[39m\u001b[38;5;124m\"\u001b[39m])\n",
      "\u001b[1;31mNameError\u001b[0m: name 'results_nmmr_u' is not defined"
     ]
    }
   ],
   "source": [
    "# results_pmmr = df_save[df_save[\"model\"] == \"pmmr\"].to_dict(orient='records')[0]\n",
    "# results_kpv = df_save[df_save[\"model\"] == \"kpv\"].to_dict(orient='records')[0]\n",
    "# results_nmmr_u = df_save[df_save[\"model\"] == \"nmmr_U_statistic\"].to_dict(orient='records')[0]\n",
    "# results_nmmr_v = df_save[df_save[\"model\"] == \"nmmr_V_statistic\"].to_dict(orient='records')[0]\n",
    "\n",
    "A_train = np.squeeze(results_pmmr[\"train_data\"].treatment)\n",
    "Y_train = np.squeeze(results_pmmr[\"train_data\"].outcome)\n",
    "A_test = np.squeeze(results_pmmr[\"test_data\"].treatment)\n",
    "Y_test = np.squeeze(results_pmmr[\"test_data\"].structural)\n",
    "\n",
    "Y_pred_pmmr = results_pmmr[\"pred_avg\"]\n",
    "Y_pred_kpv = results_kpv[\"pred_avg\"]\n",
    "Y_pred_nmmr_u = results_nmmr_u[\"pred_avg\"]\n",
    "Y_pred_nmmr_v = results_nmmr_v[\"pred_avg\"]\n",
    "\n",
    "std_pmmr = np.squeeze(results_pmmr[\"std\"])\n",
    "std_kpv = np.squeeze(results_kpv[\"std\"])\n",
    "std_nmmr_u = np.squeeze(results_nmmr_u[\"std\"])\n",
    "std_nmmr_v = np.squeeze(results_nmmr_v[\"std\"])\n",
    "\n",
    "std_pmmr_abs = np.squeeze(results_pmmr[\"std_abs\"])\n",
    "std_kpv_abs = np.squeeze(results_kpv[\"std_abs\"])\n",
    "std_nmmr_u_abs = np.squeeze(results_nmmr_u[\"std_abs\"])\n",
    "std_nmmr_v_abs = np.squeeze(results_nmmr_v[\"std_abs\"])"
   ]
  },
  {
   "cell_type": "code",
   "execution_count": null,
   "id": "edfe9bd0",
   "metadata": {},
   "outputs": [],
   "source": []
  },
  {
   "cell_type": "code",
   "execution_count": null,
   "id": "719b591b",
   "metadata": {},
   "outputs": [],
   "source": [
    "import importlib\n",
    "importlib.reload(plt)\n",
    "\n",
    "\n",
    "plt.style.use('seaborn-colorblind')\n",
    "plt.figure(figsize=(7, 5))\n",
    "# Obs & True values\n",
    "sns.scatterplot(x=A_train, y=Y_train, color='gray', label='Observed', s=7)\n",
    "plt.plot(A_test, Y_test, color='black', label=\"True Effect\", linestyle=\"solid\")\n",
    "plt.plot(A_test, ha, color='darkblue', label=\"h(a)\", linestyle=\"solid\")\n",
    "\n",
    "# Predictions\n",
    "plt.plot(A_test, Y_pred_pmmr,  label=\"PMMR\", linestyle=\"solid\")\n",
    "plt.plot(A_test, Y_pred_kpv,  label=\"KPV\", linestyle=\"solid\")\n",
    "plt.plot(A_test, Y_pred_nmmr_u, label=\"NMMR U\", linestyle=\"solid\")\n",
    "plt.plot(A_test, Y_pred_nmmr_v, label=\"NMMR V\", linestyle=\"solid\")\n",
    "\n",
    "plt.title(f'Experiment: {experiment_name}, N_sample: {n_sample}, Obs_seed: {sd_list[-1]}')\n",
    "plt.xlabel('A')\n",
    "# plt.xlim([-2.2, 2.2])\n",
    "plt.ylabel('Y')\n",
    "# plt.ylim([0, 100])\n",
    "plt.legend()\n",
    "plt.savefig(f\"plots/plot_experiment_{experiment_name}_n_sample_{n_sample}_obs_seed_{sd_list[-1]}\", dpi = 300, format=\"pdf\")\n",
    "plt.show()"
   ]
  },
  {
   "cell_type": "code",
   "execution_count": null,
   "id": "4a85f5df",
   "metadata": {},
   "outputs": [],
   "source": []
  },
  {
   "cell_type": "code",
   "execution_count": null,
   "id": "8822dcb3",
   "metadata": {},
   "outputs": [],
   "source": [
    "import importlib\n",
    "importlib.reload(plt)\n",
    "\n",
    "plt.style.use('seaborn-colorblind')\n",
    "fig = plt.figure(figsize=(16, 12))\n",
    "\n",
    "ax1 = fig.add_subplot(2, 2, 1)\n",
    "sns.scatterplot(x=A_train, y=Y_train, color='gray', label='Observed', s=7, ax=ax1)\n",
    "ax1.plot(A_test, Y_test, color='black', label=\"True Effect\", linestyle=\"solid\")\n",
    "ax1.plot(A_test, ha, color='darkblue', label=\"h(a)\", linestyle=\"solid\")\n",
    "ax1.plot(A_test, Y_pred_pmmr,  label=\"PMMR\", linestyle=\"solid\")\n",
    "ax1.plot(A_test, Y_pred_kpv,  label=\"KPV\", linestyle=\"solid\")\n",
    "ax1.plot(A_test, Y_pred_nmmr_u, label=\"NMMR U\", linestyle=\"solid\")\n",
    "ax1.plot(A_test, Y_pred_nmmr_v, label=\"NMMR V\", linestyle=\"solid\")\n",
    "\n",
    "ax1.set_title(f'Experiment: {experiment_name}, N_sample: {n_sample}, Obs_seed: {sd_list[-1]}')\n",
    "ax1.set_xlabel('A')\n",
    "ax1.set_xlim([-2.2, 2.2])\n",
    "ax1.set_ylabel('Y')\n",
    "ax1.set_ylim([0, 50])\n",
    "ax1.legend()\n",
    "\n",
    "####\n",
    "\n",
    "ax2 = fig.add_subplot(2, 2, 2)\n",
    "ax2.plot(A_test, Y_test, color='black', label=\"True Effect\", linestyle=\"solid\")\n",
    "ax2.plot(A_test, ha, color='darkblue', label=\"h(a)\", linestyle=\"solid\")\n",
    "ax2.plot(A_test, Y_pred_pmmr,  label=\"PMMR\", linestyle=\"solid\")\n",
    "ax2.plot(A_test, Y_pred_kpv,  label=\"KPV\", linestyle=\"solid\")\n",
    "ax2.plot(A_test, Y_pred_nmmr_u, label=\"NMMR U\", linestyle=\"solid\")\n",
    "ax2.plot(A_test, Y_pred_nmmr_v, label=\"NMMR V\", linestyle=\"solid\")\n",
    "\n",
    "ax2.set_title(f'Experiment: {experiment_name}, N_sample: {n_sample}')\n",
    "ax2.set_xlabel('A')\n",
    "ax2.set_xlim([-2.2, 2.2])\n",
    "ax2.set_ylabel('Y')\n",
    "ax2.set_ylim([0, 50])\n",
    "ax2.legend()\n",
    "\n",
    "### True vs Pred\n",
    "alpha = 0.2\n",
    "ax3 = fig.add_subplot(2, 2, 3)\n",
    "ax3.plot(A_test, Y_test - ha, color='darkblue', label=\"h(a)\", linestyle=\"solid\")\n",
    "line, = ax3.plot(A_test, Y_test - Y_pred_pmmr,  label=\"PMMR\", linestyle=\"solid\")\n",
    "color = line.get_color()\n",
    "ax3.fill_between(A_test, Y_test - Y_pred_pmmr - 2*std_pmmr, Y_test - Y_pred_pmmr + 2*std_pmmr, alpha=alpha, color=color)\n",
    "\n",
    "line, = ax3.plot(A_test, Y_test - Y_pred_kpv,  label=\"KPV\", linestyle=\"solid\")\n",
    "color = line.get_color()\n",
    "ax3.fill_between(A_test, Y_test - Y_pred_kpv - 2*std_kpv, Y_test - Y_pred_kpv + 2*std_kpv, alpha=alpha, color=color)\n",
    "\n",
    "line, = ax3.plot(A_test, Y_test - Y_pred_nmmr_u, label=\"NMMR U\", linestyle=\"solid\")\n",
    "color = line.get_color()\n",
    "ax3.fill_between(A_test, Y_test - Y_pred_nmmr_u - 2*std_nmmr_u, Y_test - Y_pred_nmmr_u + 2*std_nmmr_u, alpha=alpha, color=color)\n",
    "\n",
    "line, = ax3.plot(A_test, Y_test - Y_pred_nmmr_v, label=\"NMMR V\", linestyle=\"solid\")\n",
    "color = line.get_color()\n",
    "ax3.fill_between(A_test, Y_test - Y_pred_nmmr_v - 2*std_nmmr_v, Y_test - Y_pred_nmmr_v + 2*std_nmmr_v, alpha=alpha, color=color)\n",
    "\n",
    "ax3.set_title('True - Pred')\n",
    "ax3.set_xlabel('A')\n",
    "ax3.set_xlim([-2.2, 2.2])\n",
    "ax3.set_ylabel('Y')\n",
    "ax3.set_ylim([-50, 50])\n",
    "ax3.legend(loc = 'upper left')\n",
    "\n",
    "#### | True - Pred|\n",
    "alpha = 0.2\n",
    "ax4 = fig.add_subplot(2, 2, 4)\n",
    "ax4.plot(A_test, np.abs(Y_test - ha), color='darkblue', label=\"h(a)\", linestyle=\"solid\")\n",
    "\n",
    "line, = ax4.plot(A_test, np.abs(Y_test - Y_pred_pmmr),  label=\"PMMR\", linestyle=\"solid\")\n",
    "color = line.get_color()\n",
    "ax4.fill_between(A_test, np.abs(Y_test - Y_pred_pmmr) - 2*std_pmmr_abs, np.abs(Y_test - Y_pred_pmmr) + 2*std_pmmr_abs, alpha=alpha, color=color)\n",
    "\n",
    "line, = ax4.plot(A_test, np.abs(Y_test - Y_pred_kpv),  label=\"KPV\", linestyle=\"solid\")\n",
    "color = line.get_color()\n",
    "ax4.fill_between(A_test, np.abs(Y_test - Y_pred_kpv) - 2*std_kpv_abs, np.abs(Y_test - Y_pred_pmmr) + 2*std_kpv_abs, alpha=alpha, color=color)\n",
    "\n",
    "line, = ax4.plot(A_test, np.abs(Y_test - Y_pred_nmmr_u), label=\"NMMR U\", linestyle=\"solid\")\n",
    "color = line.get_color()\n",
    "ax4.fill_between(A_test, np.abs(Y_test - Y_pred_nmmr_u) - 2*std_nmmr_u_abs, np.abs(Y_test - Y_pred_pmmr) + 2*std_nmmr_u_abs, alpha=alpha, color=color)\n",
    "\n",
    "line, = ax4.plot(A_test, np.abs(Y_test - Y_pred_nmmr_v), label=\"NMMR V\", linestyle=\"solid\")\n",
    "color = line.get_color()\n",
    "ax4.fill_between(A_test, np.abs(Y_test - Y_pred_nmmr_v) - 2*std_nmmr_v_abs, np.abs(Y_test - Y_pred_pmmr) + 2*std_nmmr_v_abs, alpha=alpha, color=color)\n",
    "\n",
    "ax4.set_title('|True - Pred|')\n",
    "ax4.set_xlabel('A')\n",
    "ax4.set_xlim([-2.2, 2.2])\n",
    "ax4.set_ylabel('Y')\n",
    "ax4.set_ylim([-50, 50])\n",
    "ax4.legend()\n",
    "\n",
    "\n",
    "###########\n",
    "plt.tight_layout()\n",
    "time_stamp = datetime.datetime.now()\n",
    "time_string = time_stamp.strftime(\"%Y_%m_%d_%H_%M_%S\")\n",
    "plt.savefig(f\"plots/all_plot_experiment_{experiment_name}_n_sample_{n_sample}_obs_seed_{sd_list[-1]}_n_seed_{len(sd_list)}_time_{time_string}\", dpi = 300, format=\"pdf\")\n",
    "plt.show()\n"
   ]
  },
  {
   "cell_type": "code",
   "execution_count": null,
   "id": "d783ba98",
   "metadata": {},
   "outputs": [],
   "source": []
  },
  {
   "cell_type": "code",
   "execution_count": null,
   "id": "2ff6616e",
   "metadata": {},
   "outputs": [],
   "source": []
  },
  {
   "cell_type": "code",
   "execution_count": 19,
   "id": "c947fe3b",
   "metadata": {},
   "outputs": [
    {
     "data": {
      "text/plain": [
       "-2.405634192944296"
      ]
     },
     "execution_count": 19,
     "metadata": {},
     "output_type": "execute_result"
    }
   ],
   "source": [
    "import numpy as np\n",
    "from numpy.random import default_rng\n",
    "\n",
    "def psi(t: np.ndarray) -> np.ndarray:\n",
    "    return 2 * ((t - 5) ** 4 / 600 + np.exp(-4 * (t - 5) ** 2) + t / 10 - 2)\n",
    "\n",
    "rng = default_rng(seed=42)\n",
    "demand = rng.uniform(0, 10, 1000000)\n",
    "np.mean(psi(demand))"
   ]
  },
  {
   "cell_type": "code",
   "execution_count": null,
   "id": "10e20b4a",
   "metadata": {},
   "outputs": [],
   "source": []
  },
  {
   "cell_type": "code",
   "execution_count": null,
   "id": "0aeabc00",
   "metadata": {},
   "outputs": [],
   "source": []
  },
  {
   "cell_type": "code",
   "execution_count": null,
   "id": "e72ca323",
   "metadata": {},
   "outputs": [],
   "source": []
  },
  {
   "cell_type": "code",
   "execution_count": null,
   "id": "be2ea18d",
   "metadata": {},
   "outputs": [],
   "source": []
  },
  {
   "cell_type": "code",
   "execution_count": null,
   "id": "f8711f09",
   "metadata": {},
   "outputs": [],
   "source": []
  }
 ],
 "metadata": {
  "kernelspec": {
   "display_name": "Python 3 (ipykernel)",
   "language": "python",
   "name": "python3"
  },
  "language_info": {
   "codemirror_mode": {
    "name": "ipython",
    "version": 3
   },
   "file_extension": ".py",
   "mimetype": "text/x-python",
   "name": "python",
   "nbconvert_exporter": "python",
   "pygments_lexer": "ipython3",
   "version": "3.9.17"
  }
 },
 "nbformat": 4,
 "nbformat_minor": 5
}
